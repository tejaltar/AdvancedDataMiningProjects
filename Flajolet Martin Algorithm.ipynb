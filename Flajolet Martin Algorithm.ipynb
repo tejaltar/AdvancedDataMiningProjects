{
 "cells": [
  {
   "cell_type": "code",
   "execution_count": 1,
   "metadata": {},
   "outputs": [
    {
     "name": "stdout",
     "output_type": "stream",
     "text": [
      "Number of distinct quotes =  83886080\n",
      "Groups =  [[67108864, 2147483648, 134217728, 134217728], [33554432, 536870912, 67108864, 33554432], [134217728, 67108864, 536870912, 67108864], [67108864, 33554432, 67108864, 16777216]]\n",
      "Medians of Groups =  [134217728.0, 50331648.0, 100663296.0, 50331648.0]\n",
      "Max trailing zeros for each seed =  [26, 25, 27, 26, 31, 29, 26, 25, 27, 26, 29, 26, 27, 25, 26, 24]\n"
     ]
    }
   ],
   "source": [
    "import mmh3\n",
    "import statistics\n",
    "import random\n",
    "\n",
    "def generateHash(data,base):\n",
    "    hashV = mmh3.hash(data, base)\n",
    "    hashV = str(format(abs(hashV),\"032b\"))\n",
    "    return len(hashV) - len(hashV.rstrip('0'))\n",
    "\n",
    "files = [\"quotes_2008-08.txt\",\"quotes_2008-09.txt\",\"quotes_2008-10.txt\",\"quotes_2008-11.txt\",\"quotes_2008-12.txt\",\"quotes_2009-01.txt\",\"quotes_2009-02.txt\",\"quotes_2009-03.txt\",\"quotes_2009-04.txt\"]\n",
    "totalHash = 16\n",
    "results = [0 for i in range(totalHash)]\n",
    "totalGroups = 4\n",
    "groups = [[] for i in range(totalGroups)]\n",
    "baseArr = random.sample(range(1, 100), totalHash)\n",
    "for file in files:\n",
    "    with open(\"Problem 3 Data/{0}\".format(file),\"r\", encoding=\"utf8\") as fp:\n",
    "        for line in fp:\n",
    "            data = line.strip().split(\"\\t\")\n",
    "            if data[0] == \"Q\":\n",
    "                for i in range(totalHash):\n",
    "                    results[i] = max(results[i],generateHash(data[1],baseArr[i]))\n",
    "sums = list()\n",
    "for i in range(totalHash):\n",
    "    groups[i%totalGroups].append(2**results[i])\n",
    "for i in range(totalGroups):\n",
    "    sums.append(statistics.median(groups[i]))\n",
    "ans = int(sum(sums)/len(sums))\n",
    "\n",
    "print(\"Number of distinct quotes = \",ans)\n",
    "print(\"Groups = \",groups)\n",
    "print(\"Medians of Groups = \",sums)\n",
    "print(\"Max trailing zeros for each seed = \",results)"
   ]
  },
  {
   "cell_type": "code",
   "execution_count": null,
   "metadata": {},
   "outputs": [],
   "source": []
  }
 ],
 "metadata": {
  "kernelspec": {
   "display_name": "Python 3",
   "language": "python",
   "name": "python3"
  },
  "language_info": {
   "codemirror_mode": {
    "name": "ipython",
    "version": 3
   },
   "file_extension": ".py",
   "mimetype": "text/x-python",
   "name": "python",
   "nbconvert_exporter": "python",
   "pygments_lexer": "ipython3",
   "version": "3.8.3"
  }
 },
 "nbformat": 4,
 "nbformat_minor": 4
}
